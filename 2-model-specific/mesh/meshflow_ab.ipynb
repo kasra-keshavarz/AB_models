{
 "cells": [
  {
   "cell_type": "code",
   "execution_count": 1,
   "id": "483fac00-27c6-4d77-bccb-81b2c1af3dea",
   "metadata": {},
   "outputs": [],
   "source": [
    "import meshflow\n",
    "\n",
    "import os"
   ]
  },
  {
   "cell_type": "code",
   "execution_count": 2,
   "id": "24c28351-852d-4b1f-b82b-ee94367af0de",
   "metadata": {
    "tags": []
   },
   "outputs": [],
   "source": [
    "# main work path\n",
    "work_path = '/home/kasra545/scratch/ab_models'\n",
    "\n",
    "config = {\n",
    "    'riv': os.path.join(work_path, 'geofabric', 'ab_rivers.shp'),\n",
    "    'cat': os.path.join(work_path, 'geofabric', 'ab_catchments.shp'),\n",
    "    'landcover': os.path.join(work_path, 'gistool_outputs', 'landsat', 'ab_models_stats_NA_NALCMS_landcover_2020_30m.csv'),\n",
    "    'forcing_files': os.path.join(work_path, 'easymore_outputs', 'remapped'),\n",
    "    'forcing_vars': [\n",
    "        'RDRS_v2.1_P_UVC_10m',\n",
    "        'RDRS_v2.1_P_FI_SFC',\n",
    "        'RDRS_v2.1_P_FB_SFC',\n",
    "        'RDRS_v2.1_A_PR0_SFC',\n",
    "        'RDRS_v2.1_P_P0_SFC',\n",
    "        'RDRS_v2.1_P_TT_1.5m',\n",
    "        'RDRS_v2.1_P_HU_1.5m',\n",
    "    ],\n",
    "    'forcing_units': {\n",
    "        'RDRS_v2.1_P_P0_SFC': 'millibar',\n",
    "        'RDRS_v2.1_P_HU_1.5m': 'kg/kg',\n",
    "        'RDRS_v2.1_P_TT_1.5m': 'celsius',\n",
    "        'RDRS_v2.1_P_UVC_10m': 'm/s',\n",
    "        'RDRS_v2.1_A_PR0_SFC': 'm/hr',\n",
    "        'RDRS_v2.1_P_FB_SFC': 'W/m^2',\n",
    "        'RDRS_v2.1_P_FI_SFC': 'W/m^2',\n",
    "    },\n",
    "    'forcing_to_units': {\n",
    "         'RDRS_v2.1_P_UVC_10m': 'm/s',\n",
    "         'RDRS_v2.1_P_FI_SFC': 'W/m^2',\n",
    "         'RDRS_v2.1_P_FB_SFC': 'W/m^2',\n",
    "         'RDRS_v2.1_A_PR0_SFC': 'mm/s',\n",
    "         'RDRS_v2.1_P_P0_SFC': 'pascal',\n",
    "         'RDRS_v2.1_P_TT_1.5m': 'kelvin',\n",
    "         'RDRS_v2.1_P_HU_1.5m': 'kg/kg',\n",
    "    },\n",
    "    'main_id': 'COMID',\n",
    "    'ds_main_id': 'NextDownID',\n",
    "    'landcover_classes': {\n",
    "        1: 'Temperate or sub-polar needleleaf forest',\n",
    "        2: 'Sub-polar taiga needleleaf forest',\n",
    "        3: 'Tropical or sub-tropical broadleaf evergreen forest',\n",
    "        4: 'Tropical or sub-tropical broadleaf deciduous forest',\n",
    "        5: 'Temperate or sub-polar broadleaf deciduous forest',\n",
    "        6: 'Mixed forest',\n",
    "        7: 'Tropical or sub-tropical shrubland',\n",
    "        8: 'Temperate or sub-polar shrubland',\n",
    "        9: 'Tropical or sub-tropical grassland',\n",
    "        10: 'Temperate or sub-polar grassland',\n",
    "        11: 'Sub-polar or polar shrubland-lichen-moss',\n",
    "        12: 'Sub-polar or polar grassland-lichen-moss',\n",
    "        13: 'Sub-polar or polar barren-lichen-moss',\n",
    "        14: 'Wetland',\n",
    "        15: 'Cropland',\n",
    "        16: 'Barren lands',\n",
    "        17: 'Urban',\n",
    "        18: 'Water',\n",
    "        19: 'Snow and Ice',\n",
    "    },\n",
    "    'ddb_vars': {\n",
    "        'slope': 'ChnlSlope',\n",
    "        'lengthkm': 'ChnlLength',\n",
    "        'Rank': 'Rank',\n",
    "        'Next': 'Next',\n",
    "        'landcover': 'GRU',\n",
    "        'unitarea': 'GridArea',\n",
    "        'landcover_names': 'LandUse',\n",
    "    },\n",
    "    'ddb_units': {\n",
    "        'ChnlSlope': 'm/m',\n",
    "        'ChnlLength': 'km',\n",
    "        'Rank': 'dimensionless',\n",
    "        'Next': 'dimensionless',\n",
    "        'GRU': 'dimensionless',\n",
    "        'GridArea': 'km^2',\n",
    "        'LandUse': 'dimensionless',\n",
    "    },\n",
    "    'ddb_to_units': {\n",
    "        'ChnlSlope': 'm/m',\n",
    "        'ChnlLength': 'm',\n",
    "        'Rank': 'dimensionless',\n",
    "        'Next': 'dimensionless',\n",
    "        'GRU': 'dimensionless',\n",
    "        'GridArea': 'm^2',\n",
    "        'LandUse': 'dimensionless',\n",
    "    },\n",
    "    'ddb_min_values': {\n",
    "        'ChnlSlope': 1e-10,\n",
    "        'ChnlLength': 1,\n",
    "        'GridArea': 1,\n",
    "    },\n",
    "}"
   ]
  },
  {
   "cell_type": "code",
   "execution_count": 3,
   "id": "c58c6f35-532c-4477-a0d6-d3fdbfa78f2d",
   "metadata": {
    "tags": []
   },
   "outputs": [],
   "source": [
    "exp1 = meshflow.MESHWorkflow(**config)"
   ]
  },
  {
   "cell_type": "code",
   "execution_count": 4,
   "id": "3ac7f71b-2f09-460a-87f1-fa41b98aaa9b",
   "metadata": {},
   "outputs": [
    {
     "name": "stdout",
     "output_type": "stream",
     "text": [
      "Error in calling operator mergetime with:\n",
      ">>> cdo -O -s -f nc -mergetime /home/kasra545/scratch/ab_models/easymore_outputs/remapped/*.nc* /tmp/cdoPy_2hjcyzg<<<\n",
      "STDOUT:\n",
      "STDERR:cdo    mergetime: Open failed on >/home/kasra545/scratch/ab_models/easymore_outputs/remapped/ab_models_remapped_1980-01-03-13-00-00.nc<\n",
      "                  Input/output error\n",
      "\n"
     ]
    },
    {
     "ename": "CDOException",
     "evalue": "(returncode:1) cdo    mergetime: Open failed on >/home/kasra545/scratch/ab_models/easymore_outputs/remapped/ab_models_remapped_1980-01-03-13-00-00.nc<\n                  Input/output error\n",
     "output_type": "error",
     "traceback": [
      "\u001b[0;31m---------------------------------------------------------------------------\u001b[0m",
      "\u001b[0;31mCDOException\u001b[0m                              Traceback (most recent call last)",
      "Cell \u001b[0;32mIn[4], line 1\u001b[0m\n\u001b[0;32m----> 1\u001b[0m \u001b[43mexp1\u001b[49m\u001b[38;5;241;43m.\u001b[39;49m\u001b[43mrun\u001b[49m\u001b[43m(\u001b[49m\u001b[43m)\u001b[49m\n",
      "File \u001b[0;32m~/virtual-envs/meshflow/lib/python3.10/site-packages/meshflow/core.py:342\u001b[0m, in \u001b[0;36mMESHWorkflow.run\u001b[0;34m(self)\u001b[0m\n\u001b[1;32m    338\u001b[0m _ureg\u001b[38;5;241m.\u001b[39mdefine(\u001b[38;5;124m'\u001b[39m\u001b[38;5;124mmillibar = 1e-3 * bar\u001b[39m\u001b[38;5;124m'\u001b[39m)\n\u001b[1;32m    340\u001b[0m \u001b[38;5;66;03m# 2 generate forcing data\u001b[39;00m\n\u001b[1;32m    341\u001b[0m \u001b[38;5;66;03m# making a list of variables\u001b[39;00m\n\u001b[0;32m--> 342\u001b[0m \u001b[38;5;28mself\u001b[39m\u001b[38;5;241m.\u001b[39mforcing \u001b[38;5;241m=\u001b[39m \u001b[43mutility\u001b[49m\u001b[38;5;241;43m.\u001b[39;49m\u001b[43mprepare_mesh_forcing\u001b[49m\u001b[43m(\u001b[49m\n\u001b[1;32m    343\u001b[0m \u001b[43m                    \u001b[49m\u001b[43mpath\u001b[49m\u001b[38;5;241;43m=\u001b[39;49m\u001b[38;5;28;43mself\u001b[39;49m\u001b[38;5;241;43m.\u001b[39;49m\u001b[43mforcing_files\u001b[49m\u001b[43m,\u001b[49m\n\u001b[1;32m    344\u001b[0m \u001b[43m                    \u001b[49m\u001b[43mvariables\u001b[49m\u001b[38;5;241;43m=\u001b[39;49m\u001b[38;5;28;43mself\u001b[39;49m\u001b[38;5;241;43m.\u001b[39;49m\u001b[43mforcing_vars\u001b[49m\u001b[43m,\u001b[49m\n\u001b[1;32m    345\u001b[0m \u001b[43m                    \u001b[49m\u001b[43mhru_dim\u001b[49m\u001b[38;5;241;43m=\u001b[39;49m\u001b[38;5;28;43mself\u001b[39;49m\u001b[38;5;241;43m.\u001b[39;49m\u001b[43mhru_dim\u001b[49m\u001b[43m,\u001b[49m\n\u001b[1;32m    346\u001b[0m \u001b[43m                    \u001b[49m\u001b[43mhru_var\u001b[49m\u001b[38;5;241;43m=\u001b[39;49m\u001b[38;5;28;43mself\u001b[39;49m\u001b[38;5;241;43m.\u001b[39;49m\u001b[43mhru_var\u001b[49m\u001b[43m,\u001b[49m\n\u001b[1;32m    347\u001b[0m \u001b[43m                    \u001b[49m\u001b[43munits\u001b[49m\u001b[38;5;241;43m=\u001b[39;49m\u001b[38;5;28;43mself\u001b[39;49m\u001b[38;5;241;43m.\u001b[39;49m\u001b[43mforcing_units\u001b[49m\u001b[43m,\u001b[49m\n\u001b[1;32m    348\u001b[0m \u001b[43m                    \u001b[49m\u001b[43mto_units\u001b[49m\u001b[38;5;241;43m=\u001b[39;49m\u001b[38;5;28;43mself\u001b[39;49m\u001b[38;5;241;43m.\u001b[39;49m\u001b[43mforcing_to_units\u001b[49m\u001b[43m,\u001b[49m\n\u001b[1;32m    349\u001b[0m \u001b[43m                    \u001b[49m\u001b[43munit_registry\u001b[49m\u001b[38;5;241;43m=\u001b[39;49m\u001b[43m_ureg\u001b[49m\u001b[43m,\u001b[49m\n\u001b[1;32m    350\u001b[0m \u001b[43m                    \u001b[49m\u001b[43mlocal_attrs\u001b[49m\u001b[38;5;241;43m=\u001b[39;49m\u001b[38;5;28;43mself\u001b[39;49m\u001b[38;5;241;43m.\u001b[39;49m\u001b[43mforcing_local_attrs\u001b[49m\u001b[43m,\u001b[49m\n\u001b[1;32m    351\u001b[0m \u001b[43m                    \u001b[49m\u001b[43mglobal_attrs\u001b[49m\u001b[38;5;241;43m=\u001b[39;49m\u001b[38;5;28;43mself\u001b[39;49m\u001b[38;5;241;43m.\u001b[39;49m\u001b[43mforcing_global_attrs\u001b[49m\u001b[43m)\u001b[49m\n\u001b[1;32m    353\u001b[0m \u001b[38;5;66;03m# assigning coordinates to both `forcing` and `ddb` of an instance\u001b[39;00m\n\u001b[1;32m    354\u001b[0m \u001b[38;5;28mself\u001b[39m\u001b[38;5;241m.\u001b[39m_coords_ds \u001b[38;5;241m=\u001b[39m utility\u001b[38;5;241m.\u001b[39mprepare_mesh_coords(\u001b[38;5;28mself\u001b[39m\u001b[38;5;241m.\u001b[39mcoords,\n\u001b[1;32m    355\u001b[0m                                               cat_dim\u001b[38;5;241m=\u001b[39m\u001b[38;5;28mself\u001b[39m\u001b[38;5;241m.\u001b[39mmain_id,\n\u001b[1;32m    356\u001b[0m                                               hru_dim\u001b[38;5;241m=\u001b[39m\u001b[38;5;28mself\u001b[39m\u001b[38;5;241m.\u001b[39mhru_dim)\n",
      "File \u001b[0;32m~/virtual-envs/meshflow/lib/python3.10/site-packages/meshflow/utility/forcing_prep.py:90\u001b[0m, in \u001b[0;36mprepare_mesh_forcing\u001b[0;34m(path, variables, hru_dim, hru_var, units, unit_registry, to_units, local_attrs, global_attrs)\u001b[0m\n\u001b[1;32m     83\u001b[0m \u001b[38;5;66;03m# merge all the input forcing files as MESH only reads on file\u001b[39;00m\n\u001b[1;32m     84\u001b[0m \u001b[38;5;66;03m# CDO is used due to its stability, however, an xarray.DataSet\u001b[39;00m\n\u001b[1;32m     85\u001b[0m \u001b[38;5;66;03m# is returned\u001b[39;00m\n\u001b[1;32m     86\u001b[0m \n\u001b[1;32m     87\u001b[0m \u001b[38;5;66;03m# [FIXME]: merge functionality could become more comprehensive in\u001b[39;00m\n\u001b[1;32m     88\u001b[0m \u001b[38;5;66;03m# future versions\u001b[39;00m\n\u001b[1;32m     89\u001b[0m cdo_obj \u001b[38;5;241m=\u001b[39m cdo\u001b[38;5;241m.\u001b[39mCdo()  \u001b[38;5;66;03m# CDO object\u001b[39;00m\n\u001b[0;32m---> 90\u001b[0m ds \u001b[38;5;241m=\u001b[39m \u001b[43mcdo_obj\u001b[49m\u001b[38;5;241;43m.\u001b[39;49m\u001b[43mmergetime\u001b[49m\u001b[43m(\u001b[49m\u001b[38;5;28;43minput\u001b[39;49m\u001b[38;5;241;43m=\u001b[39;49m\u001b[43mpath\u001b[49m\u001b[43m,\u001b[49m\u001b[43m \u001b[49m\u001b[43mreturnXArray\u001b[49m\u001b[38;5;241;43m=\u001b[39;49m\u001b[43mvariables\u001b[49m\u001b[43m)\u001b[49m  \u001b[38;5;66;03m# Mergeing\u001b[39;00m\n\u001b[1;32m     92\u001b[0m \u001b[38;5;66;03m# check to see if all the keys included in the `units` dictionary are\u001b[39;00m\n\u001b[1;32m     93\u001b[0m \u001b[38;5;66;03m# found inside the `variables` sequence\u001b[39;00m\n\u001b[1;32m     94\u001b[0m \u001b[38;5;28;01mfor\u001b[39;00m k \u001b[38;5;129;01min\u001b[39;00m units:\n",
      "File \u001b[0;32m~/virtual-envs/meshflow/lib/python3.10/site-packages/cdo/cdo.py:520\u001b[0m, in \u001b[0;36mCdo.__call__\u001b[0;34m(self, *args, **kwargs)\u001b[0m\n\u001b[1;32m    518\u001b[0m             \u001b[38;5;28;01mreturn\u001b[39;00m \u001b[38;5;28;01mNone\u001b[39;00m\n\u001b[1;32m    519\u001b[0m         \u001b[38;5;28;01melse\u001b[39;00m:\n\u001b[0;32m--> 520\u001b[0m             \u001b[38;5;28;01mraise\u001b[39;00m CDOException(\u001b[38;5;241m*\u001b[39m\u001b[38;5;241m*\u001b[39mretvals)\n\u001b[1;32m    521\u001b[0m \u001b[38;5;28;01melse\u001b[39;00m:\n\u001b[1;32m    522\u001b[0m     \u001b[38;5;28;01mif\u001b[39;00m \u001b[38;5;28mself\u001b[39m\u001b[38;5;241m.\u001b[39mdebug:\n",
      "\u001b[0;31mCDOException\u001b[0m: (returncode:1) cdo    mergetime: Open failed on >/home/kasra545/scratch/ab_models/easymore_outputs/remapped/ab_models_remapped_1980-01-03-13-00-00.nc<\n                  Input/output error\n"
     ]
    }
   ],
   "source": [
    "exp1.run()"
   ]
  },
  {
   "cell_type": "code",
   "execution_count": null,
   "id": "8c90482c-72af-46c8-a8bf-0d79c8560b39",
   "metadata": {},
   "outputs": [],
   "source": [
    "exp1.forcing"
   ]
  },
  {
   "cell_type": "code",
   "execution_count": null,
   "id": "3924ad83-e16e-43c1-9ce3-967e363348b1",
   "metadata": {},
   "outputs": [],
   "source": [
    "exp1.ddb"
   ]
  },
  {
   "cell_type": "code",
   "execution_count": null,
   "id": "0591dbd9-75f1-44bb-bd85-f0516be84b84",
   "metadata": {},
   "outputs": [],
   "source": [
    "exp1.save('/home/kasra545/scratch/ab_models/mesh_model/')"
   ]
  },
  {
   "cell_type": "markdown",
   "id": "6deca0e6-4195-4671-a66c-c625f43d2c1d",
   "metadata": {},
   "source": [
    "____"
   ]
  }
 ],
 "metadata": {
  "kernelspec": {
   "display_name": "meshflow",
   "language": "python",
   "name": "meshflow"
  },
  "language_info": {
   "codemirror_mode": {
    "name": "ipython",
    "version": 3
   },
   "file_extension": ".py",
   "mimetype": "text/x-python",
   "name": "python",
   "nbconvert_exporter": "python",
   "pygments_lexer": "ipython3",
   "version": "3.10.2"
  }
 },
 "nbformat": 4,
 "nbformat_minor": 5
}
